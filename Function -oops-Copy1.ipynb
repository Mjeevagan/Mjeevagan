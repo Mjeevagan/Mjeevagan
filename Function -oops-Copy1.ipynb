{
 "cells": [
  {
   "cell_type": "code",
   "execution_count": 1,
   "metadata": {},
   "outputs": [],
   "source": [
    "#if\n",
    "if():\n",
    "    print()"
   ]
  },
  {
   "cell_type": "code",
   "execution_count": 2,
   "metadata": {},
   "outputs": [
    {
     "name": "stdout",
     "output_type": "stream",
     "text": [
      "enter the age:52\n"
     ]
    }
   ],
   "source": [
    "age =int(input(\"enter the age:\"))"
   ]
  },
  {
   "cell_type": "code",
   "execution_count": 3,
   "metadata": {},
   "outputs": [],
   "source": [
    "if(age==19):\n",
    "    print(\"Adult\")"
   ]
  },
  {
   "cell_type": "code",
   "execution_count": 4,
   "metadata": {},
   "outputs": [
    {
     "name": "stdout",
     "output_type": "stream",
     "text": [
      "Adult\n"
     ]
    }
   ],
   "source": [
    "if (age<=19):\n",
    "    print(\"Children\")\n",
    "else:\n",
    "        print(\"Adult\")"
   ]
  },
  {
   "cell_type": "code",
   "execution_count": 5,
   "metadata": {},
   "outputs": [
    {
     "name": "stdout",
     "output_type": "stream",
     "text": [
      "leelavathi\n"
     ]
    }
   ],
   "source": [
    "if(age<18):\n",
    "    print(\"Diksha\")\n",
    "elif(age<35):\n",
    "    print(\"Jeeva\")\n",
    "elif(age<60):\n",
    "    print(\"leelavathi\")\n",
    "else:\n",
    "    print(\"mookaiyah\")"
   ]
  },
  {
   "cell_type": "code",
   "execution_count": 6,
   "metadata": {},
   "outputs": [],
   "source": [
    "#for loop"
   ]
  },
  {
   "cell_type": "code",
   "execution_count": 7,
   "metadata": {},
   "outputs": [],
   "source": [
    "lists=[5,25,8,4,13]"
   ]
  },
  {
   "cell_type": "code",
   "execution_count": 8,
   "metadata": {},
   "outputs": [
    {
     "name": "stdout",
     "output_type": "stream",
     "text": [
      "5\n",
      "25\n",
      "8\n",
      "4\n",
      "13\n"
     ]
    }
   ],
   "source": [
    "for temp in lists:\n",
    "    print(temp)"
   ]
  },
  {
   "cell_type": "code",
   "execution_count": 9,
   "metadata": {},
   "outputs": [
    {
     "name": "stdout",
     "output_type": "stream",
     "text": [
      "enter no:789\n",
      "even\n"
     ]
    }
   ],
   "source": [
    "num=int(input(\"enter no:\"))\n",
    "if (num%2==0):\n",
    "    print (\"odd\")\n",
    "else:\n",
    "    print(\"even\")"
   ]
  },
  {
   "cell_type": "code",
   "execution_count": 10,
   "metadata": {},
   "outputs": [
    {
     "name": "stdout",
     "output_type": "stream",
     "text": [
      "0\n",
      "1\n",
      "2\n",
      "3\n",
      "4\n",
      "5\n",
      "6\n",
      "7\n",
      "8\n",
      "9\n",
      "10\n",
      "11\n",
      "12\n",
      "13\n",
      "14\n",
      "15\n",
      "16\n",
      "17\n",
      "18\n",
      "19\n",
      "20\n",
      "21\n",
      "22\n",
      "23\n",
      "24\n"
     ]
    }
   ],
   "source": [
    "for num in range(0,25):\n",
    "    print(num)"
   ]
  },
  {
   "cell_type": "code",
   "execution_count": 11,
   "metadata": {},
   "outputs": [
    {
     "name": "stdout",
     "output_type": "stream",
     "text": [
      "enter your age:12\n"
     ]
    }
   ],
   "source": [
    "age=int(input(\"enter your age:\"))"
   ]
  },
  {
   "cell_type": "code",
   "execution_count": 12,
   "metadata": {},
   "outputs": [
    {
     "name": "stdout",
     "output_type": "stream",
     "text": [
      "children\n"
     ]
    }
   ],
   "source": [
    "if(age<15):\n",
    "    print(\"children\")\n",
    "elif(age>18):\n",
    "    print(\"adult\")\n",
    "elif(age>35):\n",
    "    print(\"marriage age\")\n",
    "elif(age>55):\n",
    "    print(\"citizen\")\n",
    "else:\n",
    "    print(\"Senior Citizen\")"
   ]
  },
  {
   "cell_type": "code",
   "execution_count": 13,
   "metadata": {},
   "outputs": [],
   "source": [
    "lists=[15,16,75,85,96,64,35,36,0,1,3,5,9,8,]"
   ]
  },
  {
   "cell_type": "code",
   "execution_count": 14,
   "metadata": {},
   "outputs": [
    {
     "name": "stdout",
     "output_type": "stream",
     "text": [
      "15\n",
      "16\n",
      "75\n",
      "85\n",
      "96\n",
      "64\n",
      "35\n",
      "36\n",
      "0\n",
      "1\n",
      "3\n",
      "5\n",
      "9\n",
      "8\n"
     ]
    }
   ],
   "source": [
    "for age in lists:\n",
    "    print(age)"
   ]
  },
  {
   "cell_type": "code",
   "execution_count": 15,
   "metadata": {},
   "outputs": [
    {
     "name": "stdout",
     "output_type": "stream",
     "text": [
      "Senior Citizen\n",
      "Senior Citizen\n",
      "adult\n",
      "adult\n",
      "adult\n",
      "adult\n",
      "adult\n",
      "adult\n",
      "children\n",
      "children\n",
      "children\n",
      "children\n",
      "children\n",
      "children\n"
     ]
    }
   ],
   "source": [
    "for age in lists:\n",
    "    if age < 15:\n",
    "        print(\"children\")\n",
    "    elif age > 18:\n",
    "        print(\"adult\")\n",
    "    elif age > 35:\n",
    "        print(\"marriage age\")\n",
    "    elif age > 55:\n",
    "        print(\"citizen\")\n",
    "    else:\n",
    "        print(\"Senior Citizen\")"
   ]
  },
  {
   "cell_type": "code",
   "execution_count": 16,
   "metadata": {},
   "outputs": [
    {
     "name": "stdout",
     "output_type": "stream",
     "text": [
      "enter the number56\n",
      "even number\n"
     ]
    }
   ],
   "source": [
    "num=int(input(\"enter the number\"))\n",
    "if(num%2==1):\n",
    "    print (\"odd number\")\n",
    "else:\n",
    "    print(\"even number\")"
   ]
  },
  {
   "cell_type": "code",
   "execution_count": 17,
   "metadata": {},
   "outputs": [],
   "source": [
    "range=(0,10)"
   ]
  },
  {
   "cell_type": "code",
   "execution_count": 18,
   "metadata": {},
   "outputs": [],
   "source": [
    "lists=[15,16,75,85,9,8,]"
   ]
  },
  {
   "cell_type": "code",
   "execution_count": 19,
   "metadata": {},
   "outputs": [],
   "source": [
    "def Agecategory():\n",
    "    for age in lists:\n",
    "        if age < 15:\n",
    "            print(\"children\")\n",
    "        elif age > 18:\n",
    "            print(\"adult\")\n",
    "        elif age > 35:\n",
    "            print(\"marriage age\")\n",
    "        elif age > 55:\n",
    "            print(\"citizen\")\n",
    "        else:\n",
    "            print(\"Senior Citizen\")\n",
    "            "
   ]
  },
  {
   "cell_type": "code",
   "execution_count": 20,
   "metadata": {},
   "outputs": [
    {
     "name": "stdout",
     "output_type": "stream",
     "text": [
      "Senior Citizen\n",
      "Senior Citizen\n",
      "adult\n",
      "adult\n",
      "children\n",
      "children\n"
     ]
    }
   ],
   "source": [
    "Agecategory()"
   ]
  },
  {
   "cell_type": "code",
   "execution_count": 21,
   "metadata": {},
   "outputs": [
    {
     "name": "stdout",
     "output_type": "stream",
     "text": [
      "enter the age:56\n"
     ]
    }
   ],
   "source": [
    "age=int(input(\"enter the age:\"))\n"
   ]
  },
  {
   "cell_type": "code",
   "execution_count": 22,
   "metadata": {},
   "outputs": [],
   "source": [
    "def Agecategory():\n",
    "        if (age < 15):\n",
    "            print(\"children\")\n",
    "            cate =\"Children\"\n",
    "            \n",
    "        elif (age > 18):\n",
    "            print(\"adult\")\n",
    "            cate=\"adult\"\n",
    "        elif (age > 35):\n",
    "            print(\"marriage age\")\n",
    "            cate=\"Marriage age\"\n",
    "        elif (age > 55):\n",
    "            print(\"citizen\")\n",
    "            cate=\"citizen\"\n",
    "        else:\n",
    "            print(\"Senior Citizen\")\n",
    "            cate=\"senior citizen\"\n",
    "        return cate"
   ]
  },
  {
   "cell_type": "code",
   "execution_count": 23,
   "metadata": {},
   "outputs": [
    {
     "name": "stdout",
     "output_type": "stream",
     "text": [
      "adult\n"
     ]
    },
    {
     "data": {
      "text/plain": [
       "'adult'"
      ]
     },
     "execution_count": 23,
     "metadata": {},
     "output_type": "execute_result"
    }
   ],
   "source": [
    "Agecategory()"
   ]
  },
  {
   "cell_type": "code",
   "execution_count": 24,
   "metadata": {},
   "outputs": [
    {
     "name": "stdout",
     "output_type": "stream",
     "text": [
      "adult\n"
     ]
    }
   ],
   "source": [
    "agecate=Agecategory()"
   ]
  },
  {
   "cell_type": "code",
   "execution_count": 25,
   "metadata": {},
   "outputs": [],
   "source": [
    "def oddeven():\n",
    "    num=int(input(\"enter the no:\"))\n",
    "    if (num%2==0):\n",
    "            print (\"odd\")\n",
    "            message=\"odd no\"    \n",
    "    else:\n",
    "        print(\"even\")  \n",
    "        message=\"even no\"\n",
    "        return message"
   ]
  },
  {
   "cell_type": "code",
   "execution_count": 26,
   "metadata": {},
   "outputs": [
    {
     "name": "stdout",
     "output_type": "stream",
     "text": [
      "enter the no:5\n",
      "even\n"
     ]
    },
    {
     "data": {
      "text/plain": [
       "'even no'"
      ]
     },
     "execution_count": 26,
     "metadata": {},
     "output_type": "execute_result"
    }
   ],
   "source": [
    "oddeven()"
   ]
  },
  {
   "cell_type": "code",
   "execution_count": 30,
   "metadata": {},
   "outputs": [],
   "source": [
    "class multiple():\n",
    "    def Agecategory():\n",
    "        if (age < 15):\n",
    "            print(\"children\")\n",
    "            cate =\"Children\"\n",
    "            \n",
    "        elif (age > 18):\n",
    "            print(\"adult\")\n",
    "            cate=\"adult\"\n",
    "        elif (age > 35):\n",
    "            print(\"marriage age\")\n",
    "            cate=\"Marriage age\"\n",
    "        elif (age > 55):\n",
    "            print(\"citizen\")\n",
    "            cate=\"citizen\"\n",
    "        else:\n",
    "            print(\"Senior Citizen\")\n",
    "            cate=\"senior citizen\"\n",
    "        return cate\n",
    "    \n",
    "        def oddeven():\n",
    "            num=int(input(\"enter the no:\"))\n",
    "        if (num%2==0):\n",
    "               print (\"odd\")\n",
    "               message=\"odd no\"    \n",
    "        else:\n",
    "            print(\"even\")  \n",
    "            message=\"even no\"\n",
    "            return message   "
   ]
  },
  {
   "cell_type": "code",
   "execution_count": 31,
   "metadata": {},
   "outputs": [
    {
     "ename": "AttributeError",
     "evalue": "type object 'multiple' has no attribute 'oddeven'",
     "output_type": "error",
     "traceback": [
      "\u001b[1;31m---------------------------------------------------------------------------\u001b[0m",
      "\u001b[1;31mAttributeError\u001b[0m                            Traceback (most recent call last)",
      "\u001b[1;32m<ipython-input-31-6d300f9a032c>\u001b[0m in \u001b[0;36m<module>\u001b[1;34m\u001b[0m\n\u001b[1;32m----> 1\u001b[1;33m \u001b[0mmultiple\u001b[0m\u001b[1;33m.\u001b[0m\u001b[0moddeven\u001b[0m\u001b[1;33m(\u001b[0m\u001b[1;33m)\u001b[0m\u001b[1;33m\u001b[0m\u001b[1;33m\u001b[0m\u001b[0m\n\u001b[0m",
      "\u001b[1;31mAttributeError\u001b[0m: type object 'multiple' has no attribute 'oddeven'"
     ]
    }
   ],
   "source": [
    "multiple.oddeven()"
   ]
  },
  {
   "cell_type": "code",
   "execution_count": null,
   "metadata": {},
   "outputs": [],
   "source": []
  }
 ],
 "metadata": {
  "kernelspec": {
   "display_name": "Python 3",
   "language": "python",
   "name": "python3"
  },
  "language_info": {
   "codemirror_mode": {
    "name": "ipython",
    "version": 3
   },
   "file_extension": ".py",
   "mimetype": "text/x-python",
   "name": "python",
   "nbconvert_exporter": "python",
   "pygments_lexer": "ipython3",
   "version": "3.7.4"
  }
 },
 "nbformat": 4,
 "nbformat_minor": 2
}
