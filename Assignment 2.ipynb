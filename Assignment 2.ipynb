{
 "cells": [
  {
   "cell_type": "code",
   "execution_count": 3,
   "metadata": {},
   "outputs": [
    {
     "name": "stdout",
     "output_type": "stream",
     "text": [
      "\n"
     ]
    }
   ],
   "source": [
    "print()\n"
   ]
  },
  {
   "cell_type": "code",
   "execution_count": 4,
   "metadata": {},
   "outputs": [
    {
     "name": "stdout",
     "output_type": "stream",
     "text": [
      "Hope AI\n"
     ]
    }
   ],
   "source": [
    "print(\"Hope AI\")"
   ]
  },
  {
   "cell_type": "code",
   "execution_count": 5,
   "metadata": {},
   "outputs": [
    {
     "name": "stdout",
     "output_type": "stream",
     "text": [
      "\n",
      "Enter your Institute name?: Hope AI\n"
     ]
    }
   ],
   "source": [
    "print()\n",
    "print(\"Enter your Institute name?: Hope AI\")"
   ]
  },
  {
   "cell_type": "code",
   "execution_count": 6,
   "metadata": {
    "scrolled": true
   },
   "outputs": [
    {
     "name": "stdout",
     "output_type": "stream",
     "text": [
      "\n",
      "Enter your name :Raj\n",
      "Enter your age : 15\n",
      "Enter your School name: Joshua\n",
      "Enter your degree: MBA\n"
     ]
    }
   ],
   "source": [
    "print()\n",
    "print(\"Enter your name :Raj\")\n",
    "print(\"Enter your age : 15\")\n",
    "print(\"Enter your School name: Joshua\")\n",
    "print(\"Enter your degree: MBA\")"
   ]
  },
  {
   "cell_type": "code",
   "execution_count": 7,
   "metadata": {},
   "outputs": [
    {
     "name": "stdout",
     "output_type": "stream",
     "text": [
      "A=25\n",
      "B=36\n",
      "add= 61\n"
     ]
    }
   ],
   "source": [
    "a=int(input(\"A=\"))\n",
    "b=int(input(\"B=\"))\n",
    "add=a+b\n",
    "print(\"add=\",a+b)"
   ]
  },
  {
   "cell_type": "code",
   "execution_count": 8,
   "metadata": {},
   "outputs": [
    {
     "name": "stdout",
     "output_type": "stream",
     "text": [
      "A=98\n",
      "B=53\n",
      "sub= -45\n"
     ]
    }
   ],
   "source": [
    "a=int(input(\"A=\"))\n",
    "b=int(input(\"B=\"))\n",
    "sub=b-a\n",
    "print(\"sub=\",sub)"
   ]
  },
  {
   "cell_type": "code",
   "execution_count": 10,
   "metadata": {},
   "outputs": [
    {
     "name": "stdout",
     "output_type": "stream",
     "text": [
      "A=36\n",
      "B=89\n",
      "mul= 3204\n"
     ]
    }
   ],
   "source": [
    "a=int(input(\"A=\"))\n",
    "b=int(input(\"B=\"))\n",
    "mul=b*a\n",
    "print(\"mul=\",mul)\n"
   ]
  },
  {
   "cell_type": "code",
   "execution_count": 11,
   "metadata": {},
   "outputs": [
    {
     "name": "stdout",
     "output_type": "stream",
     "text": [
      "A=69\n",
      "B=53\n",
      "div= 0.7681159420289855\n"
     ]
    }
   ],
   "source": [
    "a=int(input(\"A=\"))\n",
    "b=int(input(\"B=\"))\n",
    "div=b/a\n",
    "print(\"div=\",div)"
   ]
  },
  {
   "cell_type": "code",
   "execution_count": null,
   "metadata": {},
   "outputs": [],
   "source": []
  }
 ],
 "metadata": {
  "kernelspec": {
   "display_name": "Python 3",
   "language": "python",
   "name": "python3"
  },
  "language_info": {
   "codemirror_mode": {
    "name": "ipython",
    "version": 3
   },
   "file_extension": ".py",
   "mimetype": "text/x-python",
   "name": "python",
   "nbconvert_exporter": "python",
   "pygments_lexer": "ipython3",
   "version": "3.7.4"
  }
 },
 "nbformat": 4,
 "nbformat_minor": 2
}
