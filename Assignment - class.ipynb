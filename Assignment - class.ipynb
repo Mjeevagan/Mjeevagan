{
 "cells": [
  {
   "cell_type": "code",
   "execution_count": 1,
   "metadata": {},
   "outputs": [],
   "source": [
    "def subfieldsAI():\n",
    "    lists=\"ML\",\"NN\",\"Vision\",\"Robotics\",\"SP\",\"NLP\"\n",
    "    print (\"Subfield is AI are:\")\n",
    "    print(lists)\n",
    "    "
   ]
  },
  {
   "cell_type": "code",
   "execution_count": 2,
   "metadata": {},
   "outputs": [
    {
     "name": "stdout",
     "output_type": "stream",
     "text": [
      "Subfield is AI are:\n",
      "('ML', 'NN', 'Vision', 'Robotics', 'SP', 'NLP')\n"
     ]
    }
   ],
   "source": [
    "subfieldsAI()"
   ]
  },
  {
   "cell_type": "code",
   "execution_count": 3,
   "metadata": {},
   "outputs": [],
   "source": [
    "def check_even_or_odd():\n",
    "        num = int(input(\"Enter number: \"))\n",
    "        if (num%2 == 0):\n",
    "            print(f\"{num} is an even number\")\n",
    "        else:\n",
    "            print(f\"{num} is an odd number\")\n",
    "            ()\n",
    "    "
   ]
  },
  {
   "cell_type": "code",
   "execution_count": 4,
   "metadata": {},
   "outputs": [
    {
     "name": "stdout",
     "output_type": "stream",
     "text": [
      "Enter number: 25\n",
      "25 is an odd number\n"
     ]
    }
   ],
   "source": [
    "check_even_or_odd()"
   ]
  },
  {
   "cell_type": "code",
   "execution_count": 5,
   "metadata": {},
   "outputs": [
    {
     "name": "stdout",
     "output_type": "stream",
     "text": [
      "your gender:female\n",
      "your age:5\n"
     ]
    }
   ],
   "source": [
    "gender= input(\"your gender:\")\n",
    "age =int(input(\"your age:\"))"
   ]
  },
  {
   "cell_type": "code",
   "execution_count": 6,
   "metadata": {},
   "outputs": [],
   "source": [
    "def marriageeligibility():\n",
    "        print(f\"your gender: {gender}\")\n",
    "        print(f\"your age: {age}\")\n",
    "if(gender==\"male\" and age >=18):\n",
    "            print (eligble)\n",
    "elif(gender==\"Female\" and age >=18):\n",
    "        print(not eligible)\n",
    "        \n",
    "  \n",
    "    \n",
    "    \n",
    "        "
   ]
  },
  {
   "cell_type": "code",
   "execution_count": 7,
   "metadata": {},
   "outputs": [
    {
     "name": "stdout",
     "output_type": "stream",
     "text": [
      "your gender: female\n",
      "your age: 5\n"
     ]
    }
   ],
   "source": [
    "marriageeligibility()"
   ]
  },
  {
   "cell_type": "code",
   "execution_count": 8,
   "metadata": {},
   "outputs": [
    {
     "name": "stdout",
     "output_type": "stream",
     "text": [
      "Enter your gender: female\n",
      "Enter your age: 5\n",
      "Not eligible for marriage.\n"
     ]
    }
   ],
   "source": [
    "def marriage_eligibility(gender, age):\n",
    "    if gender.lower() == \"male\" and age >= 21:\n",
    "        return \"Eligible for marriage.\"\n",
    "    elif gender.lower() == \"female\" and age >= 18:\n",
    "        return \"Eligible for marriage.\"\n",
    "    else:\n",
    "        return \"Not eligible for marriage.\"\n",
    "gender = input(\"Enter your gender: \")\n",
    "age = int(input(\"Enter your age: \"))\n",
    "result = marriage_eligibility(gender, age)\n",
    "print(result)\n"
   ]
  },
  {
   "cell_type": "code",
   "execution_count": 9,
   "metadata": {},
   "outputs": [
    {
     "data": {
      "text/plain": [
       "'Not eligible for marriage.'"
      ]
     },
     "execution_count": 9,
     "metadata": {},
     "output_type": "execute_result"
    }
   ],
   "source": [
    "marriage_eligibility(gender, age)"
   ]
  },
  {
   "cell_type": "code",
   "execution_count": 10,
   "metadata": {},
   "outputs": [],
   "source": [
    "class multiple():\n",
    "    def marriage_eligibility(gender, age):\n",
    "        if gender.lower() == \"male\" and age >= 21:\n",
    "            return \"Eligible for marriage.\"\n",
    "        elif gender.lower() == \"female\" and age >= 18:\n",
    "            return \"Eligible for marriage.\"\n",
    "        else:\n",
    "            return \"Not eligible for marriage.\"\n",
    "            gender = input(\"Enter your gender: \")\n",
    "            age = int(input(\"Enter your age: \"))\n",
    "            result = marriage_eligibility(gender, age)\n",
    "            print(result)\n",
    "    def subfieldsAI():\n",
    "        lists=\"ML\",\"NN\",\"Vision\",\"Robotics\",\"SP\",\"NLP\"\n",
    "        print (\"Subfield is AI are:\")\n",
    "        print(lists)"
   ]
  },
  {
   "cell_type": "code",
   "execution_count": 11,
   "metadata": {},
   "outputs": [
    {
     "name": "stdout",
     "output_type": "stream",
     "text": [
      "Subfield is AI are:\n",
      "('ML', 'NN', 'Vision', 'Robotics', 'SP', 'NLP')\n"
     ]
    }
   ],
   "source": [
    "multiple.subfieldsAI()"
   ]
  },
  {
   "cell_type": "code",
   "execution_count": null,
   "metadata": {},
   "outputs": [],
   "source": []
  }
 ],
 "metadata": {
  "kernelspec": {
   "display_name": "Python 3",
   "language": "python",
   "name": "python3"
  },
  "language_info": {
   "codemirror_mode": {
    "name": "ipython",
    "version": 3
   },
   "file_extension": ".py",
   "mimetype": "text/x-python",
   "name": "python",
   "nbconvert_exporter": "python",
   "pygments_lexer": "ipython3",
   "version": "3.7.4"
  }
 },
 "nbformat": 4,
 "nbformat_minor": 2
}
